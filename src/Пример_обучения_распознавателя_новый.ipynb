{
  "cells": [
    {
      "cell_type": "code",
      "execution_count": null,
      "metadata": {},
      "outputs": [
        {
          "name": "stderr",
          "output_type": "stream",
          "text": [
            "c:\\Users\\pasha\\manuscript-ocr\\env\\Lib\\site-packages\\tqdm\\auto.py:21: TqdmWarning: IProgress not found. Please update jupyter and ipywidgets. See https://ipywidgets.readthedocs.io/en/stable/user_install.html\n",
            "  from .autonotebook import tqdm as notebook_tqdm\n",
            "c:\\Users\\pasha\\manuscript-ocr\\env\\Lib\\site-packages\\albumentations\\__init__.py:24: UserWarning: A new version of Albumentations is available: 2.0.8 (you have 1.4.24). Upgrade using: pip install -U albumentations. To disable automatic update checks, set the environment variable NO_ALBUMENTATIONS_UPDATE to 1.\n",
            "  check_for_updates()\n",
            "[2025-10-26 22:17:19] Start training\n",
            "[2025-10-26 22:17:19] Experiment dir: experiments/trba_exp1\n",
            "[2025-10-26 22:17:19] Seed: 42\n",
            "[2025-10-26 22:17:19] Saved config to exp_dir/config.json\n",
            "[2025-10-26 22:17:19] Device: cuda\n",
            "[2025-10-26 22:17:19] Charset loaded: 194 tokens\n",
            "c:\\Users\\pasha\\manuscript-ocr\\src\\manuscript\\recognizers\\trba\\training\\train.py:325: FutureWarning: `torch.cuda.amp.GradScaler(args...)` is deprecated. Please use `torch.amp.GradScaler('cuda', args...)` instead.\n",
            "  scaler = amp.GradScaler()\n",
            "                                                                            \r"
          ]
        },
        {
          "name": "stdout",
          "output_type": "stream",
          "text": [
            "[OCRDatasetAttn] C:\\shared\\orig_cyrillic\\train.tsv: пропущено 70 записей.\n",
            "  - empty_label: 2\n",
            "    примеры: ['yob3873.png', 'yob4721.png']\n",
            "  - too_long: 68\n",
            "    примеры: [('das7256.png', 27, 'eff>25'), ('dem13891.png', 27, 'eff>25'), ('dem25111.png', 28, 'eff>25'), ('dem26829.png', 27, 'eff>25'), ('dem28690.png', 38, 'eff>25'), ('dem28865.png', 36, 'eff>25'), ('dem30299.png', 29, 'eff>25'), ('dem30409.png', 29, 'eff>25')]\n",
            "[OCRDatasetAttn] Lazy image validation is enabled; unreadable images will be skipped during the first access.\n"
          ]
        },
        {
          "name": "stderr",
          "output_type": "stream",
          "text": [
            "[2025-10-26 22:17:25] Validation strategy:                 \n",
            "[2025-10-26 22:17:25]   Dataset 0: using separate validation set from C:\\shared\\orig_cyrillic\\test\n",
            "[2025-10-26 22:17:25] Datasets: train=72216 samples across 1 set(s); val=1544 samples across 1 set(s)\n",
            "[2025-10-26 22:17:25] Loaders: train_batches/epoch=1129; val_batches=25; batch_size=64\n"
          ]
        },
        {
          "name": "stdout",
          "output_type": "stream",
          "text": [
            "[OCRDatasetAttn] Lazy image validation is enabled; unreadable images will be skipped during the first access.\n",
            "Datasets: train=72216 samples across 1 set(s); val=1544 samples across 1 set(s)\n",
            "Loaders: train_batches/epoch=1129; val_batches=25; batch_size=64\n"
          ]
        },
        {
          "name": "stderr",
          "output_type": "stream",
          "text": [
            "Train 1/25:   0%|          | 0/1129 [00:00<?, ?it/s]c:\\Users\\pasha\\manuscript-ocr\\src\\manuscript\\recognizers\\trba\\training\\train.py:525: FutureWarning: `torch.cuda.amp.autocast(args...)` is deprecated. Please use `torch.amp.autocast('cuda', args...)` instead.\n",
            "  with amp.autocast():\n",
            "Valid Set 0 1/25:   0%|          | 0/25 [00:00<?, ?it/s]                                 c:\\Users\\pasha\\manuscript-ocr\\src\\manuscript\\recognizers\\trba\\training\\train.py:582: FutureWarning: `torch.cuda.amp.autocast(args...)` is deprecated. Please use `torch.amp.autocast('cuda', args...)` instead.\n",
            "  with amp.autocast():\n",
            "[2025-10-26 22:25:34] Epoch 001/25 | train_loss=2.9314 | val_loss=2.7703 | acc=0.0019 | CER=0.8637 | WER=0.9981 | lr=1.00e-03\n"
          ]
        },
        {
          "name": "stdout",
          "output_type": "stream",
          "text": [
            "Epoch 001/25 | train_loss=2.9314 | val_loss=2.7703 | acc=0.0019 | CER=0.8637 | WER=0.9981 | lr=1.00e-03\n"
          ]
        },
        {
          "name": "stderr",
          "output_type": "stream",
          "text": [
            "[2025-10-26 22:25:37] New best val_loss: 2.7703 (epoch 1)\n",
            "[2025-10-26 22:25:38] New best acc: 0.0019 (epoch 1)\n",
            "[2025-10-26 22:33:15] Epoch 002/25 | train_loss=2.2536 | val_loss=2.2816 | acc=0.0045 | CER=0.8933 | WER=1.0372 | lr=1.00e-03\n"
          ]
        },
        {
          "name": "stdout",
          "output_type": "stream",
          "text": [
            "Epoch 002/25 | train_loss=2.2536 | val_loss=2.2816 | acc=0.0045 | CER=0.8933 | WER=1.0372 | lr=1.00e-03\n"
          ]
        },
        {
          "name": "stderr",
          "output_type": "stream",
          "text": [
            "[2025-10-26 22:33:18] New best val_loss: 2.2816 (epoch 2)\n",
            "[2025-10-26 22:33:19] New best acc: 0.0045 (epoch 2)\n",
            "[2025-10-26 22:40:59] Epoch 003/25 | train_loss=1.8403 | val_loss=2.0580 | acc=0.0052 | CER=0.7377 | WER=1.0087 | lr=1.00e-03\n"
          ]
        },
        {
          "name": "stdout",
          "output_type": "stream",
          "text": [
            "Epoch 003/25 | train_loss=1.8403 | val_loss=2.0580 | acc=0.0052 | CER=0.7377 | WER=1.0087 | lr=1.00e-03\n"
          ]
        },
        {
          "name": "stderr",
          "output_type": "stream",
          "text": [
            "[2025-10-26 22:41:02] New best val_loss: 2.0580 (epoch 3)\n",
            "[2025-10-26 22:41:03] New best acc: 0.0052 (epoch 3)\n",
            "[2025-10-26 22:48:38] Epoch 004/25 | train_loss=1.3763 | val_loss=1.5898 | acc=0.0330 | CER=0.5972 | WER=0.9818 | lr=1.00e-03\n"
          ]
        },
        {
          "name": "stdout",
          "output_type": "stream",
          "text": [
            "Epoch 004/25 | train_loss=1.3763 | val_loss=1.5898 | acc=0.0330 | CER=0.5972 | WER=0.9818 | lr=1.00e-03\n"
          ]
        },
        {
          "name": "stderr",
          "output_type": "stream",
          "text": [
            "[2025-10-26 22:48:41] New best val_loss: 1.5898 (epoch 4)\n",
            "[2025-10-26 22:48:43] New best acc: 0.0330 (epoch 4)\n",
            "Train 5/25:  21%|██        | 234/1129 [01:32<05:55,  2.52it/s, loss=1.1073, lr=1.00e-03]"
          ]
        }
      ],
      "source": [
        "from manuscript.recognizers import TRBAInfer\n",
        "\n",
        "\n",
        "train_summary = TRBAInfer.train(\n",
        "    train_csvs=[r\"C:\\shared\\orig_cyrillic\\train.tsv\"],\n",
        "    train_roots=[r\"C:\\shared\\orig_cyrillic\\train\"],\n",
        "    val_csvs=[r\"C:\\shared\\orig_cyrillic\\test.tsv\"],\n",
        "    val_roots=[r\"C:\\shared\\orig_cyrillic\\test\"],\n",
        "    exp_dir=\"experiments/trba_exp1\",\n",
        "    max_len=25,\n",
        "    hidden_size=256,\n",
        "    batch_size=64,\n",
        "    epochs=25,\n",
        "    lr=1e-3,\n",
        "    device=\"cuda\",  # or \"cpu\"\n",
        ")\n",
        "\n",
        "print(train_summary)\n"
      ]
    }
  ],
  "metadata": {
    "accelerator": "GPU",
    "colab": {
      "gpuType": "T4",
      "provenance": []
    },
    "kernelspec": {
      "display_name": "env",
      "language": "python",
      "name": "python3"
    },
    "language_info": {
      "codemirror_mode": {
        "name": "ipython",
        "version": 3
      },
      "file_extension": ".py",
      "mimetype": "text/x-python",
      "name": "python",
      "nbconvert_exporter": "python",
      "pygments_lexer": "ipython3",
      "version": "3.11.0"
    },
    "widgets": {
      "application/vnd.jupyter.widget-state+json": {
        "08536258283e4d0686a28b65599b21b0": {
          "model_module": "@jupyter-widgets/controls",
          "model_module_version": "1.5.0",
          "model_name": "FloatProgressModel",
          "state": {
            "_dom_classes": [],
            "_model_module": "@jupyter-widgets/controls",
            "_model_module_version": "1.5.0",
            "_model_name": "FloatProgressModel",
            "_view_count": null,
            "_view_module": "@jupyter-widgets/controls",
            "_view_module_version": "1.5.0",
            "_view_name": "ProgressView",
            "bar_style": "success",
            "description": "",
            "description_tooltip": null,
            "layout": "IPY_MODEL_1d156619f05d44eda68a2591cc48fc1a",
            "max": 383,
            "min": 0,
            "orientation": "horizontal",
            "style": "IPY_MODEL_12479d4b931c40bca2dfd9b2033073a4",
            "value": 383
          }
        },
        "0c01b57d0b4b45f482c4b2af338b3f0b": {
          "model_module": "@jupyter-widgets/base",
          "model_module_version": "1.2.0",
          "model_name": "LayoutModel",
          "state": {
            "_model_module": "@jupyter-widgets/base",
            "_model_module_version": "1.2.0",
            "_model_name": "LayoutModel",
            "_view_count": null,
            "_view_module": "@jupyter-widgets/base",
            "_view_module_version": "1.2.0",
            "_view_name": "LayoutView",
            "align_content": null,
            "align_items": null,
            "align_self": null,
            "border": null,
            "bottom": null,
            "display": null,
            "flex": null,
            "flex_flow": null,
            "grid_area": null,
            "grid_auto_columns": null,
            "grid_auto_flow": null,
            "grid_auto_rows": null,
            "grid_column": null,
            "grid_gap": null,
            "grid_row": null,
            "grid_template_areas": null,
            "grid_template_columns": null,
            "grid_template_rows": null,
            "height": null,
            "justify_content": null,
            "justify_items": null,
            "left": null,
            "margin": null,
            "max_height": null,
            "max_width": null,
            "min_height": null,
            "min_width": null,
            "object_fit": null,
            "object_position": null,
            "order": null,
            "overflow": null,
            "overflow_x": null,
            "overflow_y": null,
            "padding": null,
            "right": null,
            "top": null,
            "visibility": null,
            "width": null
          }
        },
        "12479d4b931c40bca2dfd9b2033073a4": {
          "model_module": "@jupyter-widgets/controls",
          "model_module_version": "1.5.0",
          "model_name": "ProgressStyleModel",
          "state": {
            "_model_module": "@jupyter-widgets/controls",
            "_model_module_version": "1.5.0",
            "_model_name": "ProgressStyleModel",
            "_view_count": null,
            "_view_module": "@jupyter-widgets/base",
            "_view_module_version": "1.2.0",
            "_view_name": "StyleView",
            "bar_color": null,
            "description_width": ""
          }
        },
        "1d156619f05d44eda68a2591cc48fc1a": {
          "model_module": "@jupyter-widgets/base",
          "model_module_version": "1.2.0",
          "model_name": "LayoutModel",
          "state": {
            "_model_module": "@jupyter-widgets/base",
            "_model_module_version": "1.2.0",
            "_model_name": "LayoutModel",
            "_view_count": null,
            "_view_module": "@jupyter-widgets/base",
            "_view_module_version": "1.2.0",
            "_view_name": "LayoutView",
            "align_content": null,
            "align_items": null,
            "align_self": null,
            "border": null,
            "bottom": null,
            "display": null,
            "flex": null,
            "flex_flow": null,
            "grid_area": null,
            "grid_auto_columns": null,
            "grid_auto_flow": null,
            "grid_auto_rows": null,
            "grid_column": null,
            "grid_gap": null,
            "grid_row": null,
            "grid_template_areas": null,
            "grid_template_columns": null,
            "grid_template_rows": null,
            "height": null,
            "justify_content": null,
            "justify_items": null,
            "left": null,
            "margin": null,
            "max_height": null,
            "max_width": null,
            "min_height": null,
            "min_width": null,
            "object_fit": null,
            "object_position": null,
            "order": null,
            "overflow": null,
            "overflow_x": null,
            "overflow_y": null,
            "padding": null,
            "right": null,
            "top": null,
            "visibility": null,
            "width": null
          }
        },
        "2181b058d54c44dc92db55d34893b248": {
          "model_module": "@jupyter-widgets/controls",
          "model_module_version": "1.5.0",
          "model_name": "DescriptionStyleModel",
          "state": {
            "_model_module": "@jupyter-widgets/controls",
            "_model_module_version": "1.5.0",
            "_model_name": "DescriptionStyleModel",
            "_view_count": null,
            "_view_module": "@jupyter-widgets/base",
            "_view_module_version": "1.2.0",
            "_view_name": "StyleView",
            "description_width": ""
          }
        },
        "57a8e5f2b99c425db6151351bd1573e2": {
          "model_module": "@jupyter-widgets/controls",
          "model_module_version": "1.5.0",
          "model_name": "HTMLModel",
          "state": {
            "_dom_classes": [],
            "_model_module": "@jupyter-widgets/controls",
            "_model_module_version": "1.5.0",
            "_model_name": "HTMLModel",
            "_view_count": null,
            "_view_module": "@jupyter-widgets/controls",
            "_view_module_version": "1.5.0",
            "_view_name": "HTMLView",
            "description": "",
            "description_tooltip": null,
            "layout": "IPY_MODEL_fc36ca76a96d427aa457a7c3aeff3c0e",
            "placeholder": "​",
            "style": "IPY_MODEL_e041a221954541bbb65b99109810e1f5",
            "value": " 383/383 [03:44&lt;00:00,  3.15it/s]"
          }
        },
        "ca5f831c6cdd4831a9cf7f8bb90b4083": {
          "model_module": "@jupyter-widgets/controls",
          "model_module_version": "1.5.0",
          "model_name": "HTMLModel",
          "state": {
            "_dom_classes": [],
            "_model_module": "@jupyter-widgets/controls",
            "_model_module_version": "1.5.0",
            "_model_name": "HTMLModel",
            "_view_count": null,
            "_view_module": "@jupyter-widgets/controls",
            "_view_module_version": "1.5.0",
            "_view_name": "HTMLView",
            "description": "",
            "description_tooltip": null,
            "layout": "IPY_MODEL_db796066b2dc47fe8ebaf0a6d9c85e6e",
            "placeholder": "​",
            "style": "IPY_MODEL_2181b058d54c44dc92db55d34893b248",
            "value": "Train 1: 100%"
          }
        },
        "db796066b2dc47fe8ebaf0a6d9c85e6e": {
          "model_module": "@jupyter-widgets/base",
          "model_module_version": "1.2.0",
          "model_name": "LayoutModel",
          "state": {
            "_model_module": "@jupyter-widgets/base",
            "_model_module_version": "1.2.0",
            "_model_name": "LayoutModel",
            "_view_count": null,
            "_view_module": "@jupyter-widgets/base",
            "_view_module_version": "1.2.0",
            "_view_name": "LayoutView",
            "align_content": null,
            "align_items": null,
            "align_self": null,
            "border": null,
            "bottom": null,
            "display": null,
            "flex": null,
            "flex_flow": null,
            "grid_area": null,
            "grid_auto_columns": null,
            "grid_auto_flow": null,
            "grid_auto_rows": null,
            "grid_column": null,
            "grid_gap": null,
            "grid_row": null,
            "grid_template_areas": null,
            "grid_template_columns": null,
            "grid_template_rows": null,
            "height": null,
            "justify_content": null,
            "justify_items": null,
            "left": null,
            "margin": null,
            "max_height": null,
            "max_width": null,
            "min_height": null,
            "min_width": null,
            "object_fit": null,
            "object_position": null,
            "order": null,
            "overflow": null,
            "overflow_x": null,
            "overflow_y": null,
            "padding": null,
            "right": null,
            "top": null,
            "visibility": null,
            "width": null
          }
        },
        "e041a221954541bbb65b99109810e1f5": {
          "model_module": "@jupyter-widgets/controls",
          "model_module_version": "1.5.0",
          "model_name": "DescriptionStyleModel",
          "state": {
            "_model_module": "@jupyter-widgets/controls",
            "_model_module_version": "1.5.0",
            "_model_name": "DescriptionStyleModel",
            "_view_count": null,
            "_view_module": "@jupyter-widgets/base",
            "_view_module_version": "1.2.0",
            "_view_name": "StyleView",
            "description_width": ""
          }
        },
        "e16b54ce0ba740d28d2a5b3528e26f2e": {
          "model_module": "@jupyter-widgets/controls",
          "model_module_version": "1.5.0",
          "model_name": "HBoxModel",
          "state": {
            "_dom_classes": [],
            "_model_module": "@jupyter-widgets/controls",
            "_model_module_version": "1.5.0",
            "_model_name": "HBoxModel",
            "_view_count": null,
            "_view_module": "@jupyter-widgets/controls",
            "_view_module_version": "1.5.0",
            "_view_name": "HBoxView",
            "box_style": "",
            "children": [
              "IPY_MODEL_ca5f831c6cdd4831a9cf7f8bb90b4083",
              "IPY_MODEL_08536258283e4d0686a28b65599b21b0",
              "IPY_MODEL_57a8e5f2b99c425db6151351bd1573e2"
            ],
            "layout": "IPY_MODEL_0c01b57d0b4b45f482c4b2af338b3f0b"
          }
        },
        "fc36ca76a96d427aa457a7c3aeff3c0e": {
          "model_module": "@jupyter-widgets/base",
          "model_module_version": "1.2.0",
          "model_name": "LayoutModel",
          "state": {
            "_model_module": "@jupyter-widgets/base",
            "_model_module_version": "1.2.0",
            "_model_name": "LayoutModel",
            "_view_count": null,
            "_view_module": "@jupyter-widgets/base",
            "_view_module_version": "1.2.0",
            "_view_name": "LayoutView",
            "align_content": null,
            "align_items": null,
            "align_self": null,
            "border": null,
            "bottom": null,
            "display": null,
            "flex": null,
            "flex_flow": null,
            "grid_area": null,
            "grid_auto_columns": null,
            "grid_auto_flow": null,
            "grid_auto_rows": null,
            "grid_column": null,
            "grid_gap": null,
            "grid_row": null,
            "grid_template_areas": null,
            "grid_template_columns": null,
            "grid_template_rows": null,
            "height": null,
            "justify_content": null,
            "justify_items": null,
            "left": null,
            "margin": null,
            "max_height": null,
            "max_width": null,
            "min_height": null,
            "min_width": null,
            "object_fit": null,
            "object_position": null,
            "order": null,
            "overflow": null,
            "overflow_x": null,
            "overflow_y": null,
            "padding": null,
            "right": null,
            "top": null,
            "visibility": null,
            "width": null
          }
        }
      }
    }
  },
  "nbformat": 4,
  "nbformat_minor": 0
}
