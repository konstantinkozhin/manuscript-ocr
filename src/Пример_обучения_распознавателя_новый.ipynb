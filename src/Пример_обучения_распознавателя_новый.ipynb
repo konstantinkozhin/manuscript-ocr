{
  "cells": [
    {
      "cell_type": "code",
      "execution_count": null,
      "metadata": {},
      "outputs": [
        {
          "name": "stderr",
          "output_type": "stream",
          "text": [
            "[2025-10-27 14:45:05] Start training\n",
            "[2025-10-27 14:45:05] Experiment dir: C:\\Users\\USER\\manuscript-ocr\\src\\experiments\\trba_exp1\n",
            "[2025-10-27 14:45:05] Seed: 42\n",
            "[2025-10-27 14:45:05] Saved config to exp_dir/config.json\n",
            "[2025-10-27 14:45:05] Device: cuda\n",
            "[2025-10-27 14:45:05] Charset loaded: 194 tokens\n",
            "c:\\Users\\USER\\manuscript-ocr\\src\\manuscript\\recognizers\\trba\\training\\train.py:330: FutureWarning: `torch.cuda.amp.GradScaler(args...)` is deprecated. Please use `torch.amp.GradScaler('cuda', args...)` instead.\n",
            "  scaler = amp.GradScaler()\n",
            "                                                                            \r"
          ]
        },
        {
          "name": "stdout",
          "output_type": "stream",
          "text": [
            "[OCRDatasetAttn] C:\\shared\\orig_cyrillic\\train.tsv: пропущено 70 записей.\n",
            "  - empty_label: 2\n",
            "    примеры: ['yob3873.png', 'yob4721.png']\n",
            "  - too_long: 68\n",
            "    примеры: [('das7256.png', 27, 'eff>25'), ('dem13891.png', 27, 'eff>25'), ('dem25111.png', 28, 'eff>25'), ('dem26829.png', 27, 'eff>25'), ('dem28690.png', 38, 'eff>25'), ('dem28865.png', 36, 'eff>25'), ('dem30299.png', 29, 'eff>25'), ('dem30409.png', 29, 'eff>25')]\n",
            "[OCRDatasetAttn] Lazy image validation is enabled; unreadable images will be skipped during the first access.\n"
          ]
        },
        {
          "name": "stderr",
          "output_type": "stream",
          "text": [
            "[2025-10-27 14:45:09] Validation strategy:                 \n",
            "[2025-10-27 14:45:09]   Dataset 0: using separate validation set from C:\\shared\\orig_cyrillic\\test\n",
            "[2025-10-27 14:45:09] Datasets: train=72216 samples across 1 set(s); val=1544 samples across 1 set(s)\n",
            "[2025-10-27 14:45:09] Loaders: train_batches/epoch=1129; val_batches=25; batch_size=64\n"
          ]
        },
        {
          "name": "stdout",
          "output_type": "stream",
          "text": [
            "[OCRDatasetAttn] Lazy image validation is enabled; unreadable images will be skipped during the first access.\n",
            "Datasets: train=72216 samples across 1 set(s); val=1544 samples across 1 set(s)\n",
            "Loaders: train_batches/epoch=1129; val_batches=25; batch_size=64\n"
          ]
        },
        {
          "name": "stderr",
          "output_type": "stream",
          "text": [
            "[2025-10-27 14:45:09] Resumed from: C:\\Users\\USER\\manuscript-ocr\\src\\experiments\\trba_exp1\\last_ckpt.pth (epoch=25, step=28225)\n",
            "Train 26/50:   0%|          | 0/1129 [00:00<?, ?it/s]c:\\Users\\USER\\manuscript-ocr\\src\\manuscript\\recognizers\\trba\\training\\train.py:530: FutureWarning: `torch.cuda.amp.autocast(args...)` is deprecated. Please use `torch.amp.autocast('cuda', args...)` instead.\n",
            "  with amp.autocast():\n",
            "Valid Set 0 26/50:   0%|          | 0/25 [00:00<?, ?it/s]                                 c:\\Users\\USER\\manuscript-ocr\\src\\manuscript\\recognizers\\trba\\training\\train.py:612: FutureWarning: `torch.cuda.amp.autocast(args...)` is deprecated. Please use `torch.amp.autocast('cuda', args...)` instead.\n",
            "  with amp.autocast():\n",
            "[2025-10-27 14:48:25] Epoch 026/50 | train_loss=0.1087 | val_loss=0.5388 | acc=0.4456 | CER=0.1443 | WER=0.5085 | acc_beam=0.4702 | CER_beam=0.1350 | WER_beam=0.4767 | lr=1.00e-03\n"
          ]
        },
        {
          "name": "stdout",
          "output_type": "stream",
          "text": [
            "Epoch 026/50 | train_loss=0.1087 | val_loss=0.5388 | acc=0.4456 | CER=0.1443 | WER=0.5085 | acc_beam=0.4702 | CER_beam=0.1350 | WER_beam=0.4767 | lr=1.00e-03\n"
          ]
        },
        {
          "name": "stderr",
          "output_type": "stream",
          "text": [
            "[2025-10-27 14:51:42] Epoch 027/50 | train_loss=0.0618 | val_loss=0.4931 | acc=0.4773 | CER=0.1306 | WER=0.4826 | acc_beam=0.4955 | CER_beam=0.1210 | WER_beam=0.4541 | lr=5.00e-04\n"
          ]
        },
        {
          "name": "stdout",
          "output_type": "stream",
          "text": [
            "Epoch 027/50 | train_loss=0.0618 | val_loss=0.4931 | acc=0.4773 | CER=0.1306 | WER=0.4826 | acc_beam=0.4955 | CER_beam=0.1210 | WER_beam=0.4541 | lr=5.00e-04\n"
          ]
        },
        {
          "name": "stderr",
          "output_type": "stream",
          "text": [
            "[2025-10-27 14:51:43] New best val_loss: 0.4931 (epoch 27)\n",
            "[2025-10-27 14:51:44] New best acc: 0.4773 (epoch 27)\n",
            "[2025-10-27 14:55:00] Epoch 028/50 | train_loss=0.0523 | val_loss=0.5218 | acc=0.4663 | CER=0.1378 | WER=0.4899 | acc_beam=0.4845 | CER_beam=0.1310 | WER_beam=0.4626 | lr=5.00e-04\n"
          ]
        },
        {
          "name": "stdout",
          "output_type": "stream",
          "text": [
            "Epoch 028/50 | train_loss=0.0523 | val_loss=0.5218 | acc=0.4663 | CER=0.1378 | WER=0.4899 | acc_beam=0.4845 | CER_beam=0.1310 | WER_beam=0.4626 | lr=5.00e-04\n"
          ]
        },
        {
          "name": "stderr",
          "output_type": "stream",
          "text": [
            "[2025-10-27 14:58:16] Epoch 029/50 | train_loss=0.0528 | val_loss=0.5363 | acc=0.4547 | CER=0.1398 | WER=0.4972 | acc_beam=0.4728 | CER_beam=0.1308 | WER_beam=0.4738 | lr=5.00e-04\n"
          ]
        },
        {
          "name": "stdout",
          "output_type": "stream",
          "text": [
            "Epoch 029/50 | train_loss=0.0528 | val_loss=0.5363 | acc=0.4547 | CER=0.1398 | WER=0.4972 | acc_beam=0.4728 | CER_beam=0.1308 | WER_beam=0.4738 | lr=5.00e-04\n"
          ]
        },
        {
          "name": "stderr",
          "output_type": "stream",
          "text": [
            "[2025-10-27 15:01:32] Epoch 030/50 | train_loss=0.0483 | val_loss=0.5139 | acc=0.4877 | CER=0.1298 | WER=0.4734 | acc_beam=0.5006 | CER_beam=0.1221 | WER_beam=0.4496 | lr=5.00e-04\n"
          ]
        },
        {
          "name": "stdout",
          "output_type": "stream",
          "text": [
            "Epoch 030/50 | train_loss=0.0483 | val_loss=0.5139 | acc=0.4877 | CER=0.1298 | WER=0.4734 | acc_beam=0.5006 | CER_beam=0.1221 | WER_beam=0.4496 | lr=5.00e-04\n"
          ]
        },
        {
          "name": "stderr",
          "output_type": "stream",
          "text": [
            "[2025-10-27 15:01:33] New best acc: 0.4877 (epoch 30)\n",
            "[2025-10-27 15:04:47] Epoch 031/50 | train_loss=0.0440 | val_loss=0.5333 | acc=0.4825 | CER=0.1290 | WER=0.4781 | acc_beam=0.4935 | CER_beam=0.1235 | WER_beam=0.4588 | lr=5.00e-04\n"
          ]
        },
        {
          "name": "stdout",
          "output_type": "stream",
          "text": [
            "Epoch 031/50 | train_loss=0.0440 | val_loss=0.5333 | acc=0.4825 | CER=0.1290 | WER=0.4781 | acc_beam=0.4935 | CER_beam=0.1235 | WER_beam=0.4588 | lr=5.00e-04\n"
          ]
        },
        {
          "name": "stderr",
          "output_type": "stream",
          "text": [
            "[2025-10-27 15:08:04] Epoch 032/50 | train_loss=0.0317 | val_loss=0.4927 | acc=0.5052 | CER=0.1224 | WER=0.4551 | acc_beam=0.5149 | CER_beam=0.1156 | WER_beam=0.4376 | lr=2.50e-04\n"
          ]
        },
        {
          "name": "stdout",
          "output_type": "stream",
          "text": [
            "Epoch 032/50 | train_loss=0.0317 | val_loss=0.4927 | acc=0.5052 | CER=0.1224 | WER=0.4551 | acc_beam=0.5149 | CER_beam=0.1156 | WER_beam=0.4376 | lr=2.50e-04\n"
          ]
        },
        {
          "name": "stderr",
          "output_type": "stream",
          "text": [
            "[2025-10-27 15:08:05] New best val_loss: 0.4927 (epoch 32)\n",
            "[2025-10-27 15:08:06] New best acc: 0.5052 (epoch 32)\n",
            "[2025-10-27 15:11:18] Epoch 033/50 | train_loss=0.0280 | val_loss=0.5238 | acc=0.5084 | CER=0.1239 | WER=0.4507 | acc_beam=0.5136 | CER_beam=0.1174 | WER_beam=0.4380 | lr=2.50e-04\n"
          ]
        },
        {
          "name": "stdout",
          "output_type": "stream",
          "text": [
            "Epoch 033/50 | train_loss=0.0280 | val_loss=0.5238 | acc=0.5084 | CER=0.1239 | WER=0.4507 | acc_beam=0.5136 | CER_beam=0.1174 | WER_beam=0.4380 | lr=2.50e-04\n"
          ]
        },
        {
          "name": "stderr",
          "output_type": "stream",
          "text": [
            "[2025-10-27 15:11:19] New best acc: 0.5084 (epoch 33)\n",
            "[2025-10-27 15:14:34] Epoch 034/50 | train_loss=0.0270 | val_loss=0.5034 | acc=0.5013 | CER=0.1244 | WER=0.4577 | acc_beam=0.5110 | CER_beam=0.1175 | WER_beam=0.4434 | lr=2.50e-04\n"
          ]
        },
        {
          "name": "stdout",
          "output_type": "stream",
          "text": [
            "Epoch 034/50 | train_loss=0.0270 | val_loss=0.5034 | acc=0.5013 | CER=0.1244 | WER=0.4577 | acc_beam=0.5110 | CER_beam=0.1175 | WER_beam=0.4434 | lr=2.50e-04\n"
          ]
        },
        {
          "name": "stderr",
          "output_type": "stream",
          "text": [
            "[2025-10-27 15:17:50] Epoch 035/50 | train_loss=0.0261 | val_loss=0.5216 | acc=0.5019 | CER=0.1235 | WER=0.4571 | acc_beam=0.5155 | CER_beam=0.1167 | WER_beam=0.4363 | lr=2.50e-04\n"
          ]
        },
        {
          "name": "stdout",
          "output_type": "stream",
          "text": [
            "Epoch 035/50 | train_loss=0.0261 | val_loss=0.5216 | acc=0.5019 | CER=0.1235 | WER=0.4571 | acc_beam=0.5155 | CER_beam=0.1167 | WER_beam=0.4363 | lr=2.50e-04\n"
          ]
        },
        {
          "name": "stderr",
          "output_type": "stream",
          "text": [
            "[2025-10-27 15:21:06] Epoch 036/50 | train_loss=0.0246 | val_loss=0.5287 | acc=0.4916 | CER=0.1242 | WER=0.4630 | acc_beam=0.5084 | CER_beam=0.1162 | WER_beam=0.4388 | lr=2.50e-04\n"
          ]
        },
        {
          "name": "stdout",
          "output_type": "stream",
          "text": [
            "Epoch 036/50 | train_loss=0.0246 | val_loss=0.5287 | acc=0.4916 | CER=0.1242 | WER=0.4630 | acc_beam=0.5084 | CER_beam=0.1162 | WER_beam=0.4388 | lr=2.50e-04\n"
          ]
        },
        {
          "name": "stderr",
          "output_type": "stream",
          "text": [
            "                                                                                         \r"
          ]
        },
        {
          "ename": "KeyboardInterrupt",
          "evalue": "",
          "output_type": "error",
          "traceback": [
            "\u001b[31m---------------------------------------------------------------------------\u001b[39m",
            "\u001b[31mKeyboardInterrupt\u001b[39m                         Traceback (most recent call last)",
            "\u001b[36mCell\u001b[39m\u001b[36m \u001b[39m\u001b[32mIn[4]\u001b[39m\u001b[32m, line 4\u001b[39m\n\u001b[32m      1\u001b[39m \u001b[38;5;28;01mfrom\u001b[39;00m\u001b[38;5;250m \u001b[39m\u001b[34;01mmanuscript\u001b[39;00m\u001b[34;01m.\u001b[39;00m\u001b[34;01mrecognizers\u001b[39;00m\u001b[38;5;250m \u001b[39m\u001b[38;5;28;01mimport\u001b[39;00m TRBAInfer\n\u001b[32m----> \u001b[39m\u001b[32m4\u001b[39m train_summary = \u001b[43mTRBAInfer\u001b[49m\u001b[43m.\u001b[49m\u001b[43mtrain\u001b[49m\u001b[43m(\u001b[49m\n\u001b[32m      5\u001b[39m \u001b[43m    \u001b[49m\u001b[43mtrain_csvs\u001b[49m\u001b[43m=\u001b[49m\u001b[43m[\u001b[49m\u001b[33;43mr\u001b[39;49m\u001b[33;43m\"\u001b[39;49m\u001b[33;43mC:\u001b[39;49m\u001b[33;43m\\\u001b[39;49m\u001b[33;43mshared\u001b[39;49m\u001b[33;43m\\\u001b[39;49m\u001b[33;43morig_cyrillic\u001b[39;49m\u001b[33;43m\\\u001b[39;49m\u001b[33;43mtrain.tsv\u001b[39;49m\u001b[33;43m\"\u001b[39;49m\u001b[43m]\u001b[49m\u001b[43m,\u001b[49m\n\u001b[32m      6\u001b[39m \u001b[43m    \u001b[49m\u001b[43mtrain_roots\u001b[49m\u001b[43m=\u001b[49m\u001b[43m[\u001b[49m\u001b[33;43mr\u001b[39;49m\u001b[33;43m\"\u001b[39;49m\u001b[33;43mC:\u001b[39;49m\u001b[33;43m\\\u001b[39;49m\u001b[33;43mshared\u001b[39;49m\u001b[33;43m\\\u001b[39;49m\u001b[33;43morig_cyrillic\u001b[39;49m\u001b[33;43m\\\u001b[39;49m\u001b[33;43mtrain\u001b[39;49m\u001b[33;43m\"\u001b[39;49m\u001b[43m]\u001b[49m\u001b[43m,\u001b[49m\n\u001b[32m      7\u001b[39m \u001b[43m    \u001b[49m\u001b[43mval_csvs\u001b[49m\u001b[43m=\u001b[49m\u001b[43m[\u001b[49m\u001b[33;43mr\u001b[39;49m\u001b[33;43m\"\u001b[39;49m\u001b[33;43mC:\u001b[39;49m\u001b[33;43m\\\u001b[39;49m\u001b[33;43mshared\u001b[39;49m\u001b[33;43m\\\u001b[39;49m\u001b[33;43morig_cyrillic\u001b[39;49m\u001b[33;43m\\\u001b[39;49m\u001b[33;43mtest.tsv\u001b[39;49m\u001b[33;43m\"\u001b[39;49m\u001b[43m]\u001b[49m\u001b[43m,\u001b[49m\n\u001b[32m      8\u001b[39m \u001b[43m    \u001b[49m\u001b[43mval_roots\u001b[49m\u001b[43m=\u001b[49m\u001b[43m[\u001b[49m\u001b[33;43mr\u001b[39;49m\u001b[33;43m\"\u001b[39;49m\u001b[33;43mC:\u001b[39;49m\u001b[33;43m\\\u001b[39;49m\u001b[33;43mshared\u001b[39;49m\u001b[33;43m\\\u001b[39;49m\u001b[33;43morig_cyrillic\u001b[39;49m\u001b[33;43m\\\u001b[39;49m\u001b[33;43mtest\u001b[39;49m\u001b[33;43m\"\u001b[39;49m\u001b[43m]\u001b[49m\u001b[43m,\u001b[49m\n\u001b[32m      9\u001b[39m \u001b[43m    \u001b[49m\u001b[43mexp_dir\u001b[49m\u001b[43m=\u001b[49m\u001b[33;43m\"\u001b[39;49m\u001b[33;43mexperiments/trba_exp1\u001b[39;49m\u001b[33;43m\"\u001b[39;49m\u001b[43m,\u001b[49m\n\u001b[32m     10\u001b[39m \u001b[43m    \u001b[49m\u001b[43mmax_len\u001b[49m\u001b[43m=\u001b[49m\u001b[32;43m25\u001b[39;49m\u001b[43m,\u001b[49m\n\u001b[32m     11\u001b[39m \u001b[43m    \u001b[49m\u001b[43mhidden_size\u001b[49m\u001b[43m=\u001b[49m\u001b[32;43m256\u001b[39;49m\u001b[43m,\u001b[49m\n\u001b[32m     12\u001b[39m \u001b[43m    \u001b[49m\u001b[43mbatch_size\u001b[49m\u001b[43m=\u001b[49m\u001b[32;43m64\u001b[39;49m\u001b[43m,\u001b[49m\n\u001b[32m     13\u001b[39m \u001b[43m    \u001b[49m\u001b[43mepochs\u001b[49m\u001b[43m=\u001b[49m\u001b[32;43m50\u001b[39;49m\u001b[43m,\u001b[49m\n\u001b[32m     14\u001b[39m \u001b[43m    \u001b[49m\u001b[43mlr\u001b[49m\u001b[43m=\u001b[49m\u001b[32;43m1e-3\u001b[39;49m\u001b[43m,\u001b[49m\n\u001b[32m     15\u001b[39m \u001b[43m    \u001b[49m\u001b[43mdevice\u001b[49m\u001b[43m=\u001b[49m\u001b[33;43m\"\u001b[39;49m\u001b[33;43mcuda\u001b[39;49m\u001b[33;43m\"\u001b[39;49m\u001b[43m,\u001b[49m\u001b[43m  \u001b[49m\u001b[38;5;66;43;03m# or \"cpu\"\u001b[39;49;00m\n\u001b[32m     16\u001b[39m \u001b[43m    \u001b[49m\u001b[43mdual_validate\u001b[49m\u001b[43m=\u001b[49m\u001b[38;5;28;43;01mTrue\u001b[39;49;00m\u001b[43m,\u001b[49m\n\u001b[32m     17\u001b[39m \u001b[43m    \u001b[49m\u001b[43mresume_path\u001b[49m\u001b[43m=\u001b[49m\u001b[33;43mr\u001b[39;49m\u001b[33;43m'\u001b[39;49m\u001b[33;43mC:\u001b[39;49m\u001b[33;43m\\\u001b[39;49m\u001b[33;43mUsers\u001b[39;49m\u001b[33;43m\\\u001b[39;49m\u001b[33;43mUSER\u001b[39;49m\u001b[33;43m\\\u001b[39;49m\u001b[33;43mmanuscript-ocr\u001b[39;49m\u001b[33;43m\\\u001b[39;49m\u001b[33;43msrc\u001b[39;49m\u001b[33;43m\\\u001b[39;49m\u001b[33;43mexperiments\u001b[39;49m\u001b[33;43m\\\u001b[39;49m\u001b[33;43mtrba_exp1\u001b[39;49m\u001b[33;43m'\u001b[39;49m\u001b[43m,\u001b[49m\n\u001b[32m     18\u001b[39m \u001b[43m)\u001b[49m\n\u001b[32m     20\u001b[39m \u001b[38;5;28mprint\u001b[39m(train_summary)\n",
            "\u001b[36mFile \u001b[39m\u001b[32mc:\\Users\\USER\\manuscript-ocr\\src\\manuscript\\recognizers\\trba\\__init__.py:303\u001b[39m, in \u001b[36mTRBAInfer.train\u001b[39m\u001b[34m(train_csvs, train_roots, val_csvs, val_roots, exp_dir, charset_path, encoding, img_h, img_w, max_len, hidden_size, batch_size, epochs, lr, optimizer, scheduler, weight_decay, momentum, eval_every, val_size, train_proportions, num_workers, seed, resume_path, save_every, dual_validate, beam_size, beam_alpha, beam_temperature, device, **extra_config)\u001b[39m\n\u001b[32m    300\u001b[39m     config_payload.update(extra_config)\n\u001b[32m    302\u001b[39m config = Config(config_payload)\n\u001b[32m--> \u001b[39m\u001b[32m303\u001b[39m \u001b[38;5;28;01mreturn\u001b[39;00m \u001b[43mrun_training\u001b[49m\u001b[43m(\u001b[49m\u001b[43mconfig\u001b[49m\u001b[43m,\u001b[49m\u001b[43m \u001b[49m\u001b[43mdevice\u001b[49m\u001b[43m=\u001b[49m\u001b[43mdevice\u001b[49m\u001b[43m)\u001b[49m\n",
            "\u001b[36mFile \u001b[39m\u001b[32mc:\\Users\\USER\\manuscript-ocr\\src\\manuscript\\recognizers\\trba\\training\\train.py:524\u001b[39m, in \u001b[36mrun_training\u001b[39m\u001b[34m(cfg, device)\u001b[39m\n\u001b[32m    522\u001b[39m total_train_loss = \u001b[32m0.0\u001b[39m\n\u001b[32m    523\u001b[39m pbar = tqdm(train_loader, desc=\u001b[33mf\u001b[39m\u001b[33m\"\u001b[39m\u001b[33mTrain \u001b[39m\u001b[38;5;132;01m{\u001b[39;00mepoch\u001b[38;5;132;01m}\u001b[39;00m\u001b[33m/\u001b[39m\u001b[38;5;132;01m{\u001b[39;00mepochs\u001b[38;5;132;01m}\u001b[39;00m\u001b[33m\"\u001b[39m, leave=\u001b[38;5;28;01mFalse\u001b[39;00m)\n\u001b[32m--> \u001b[39m\u001b[32m524\u001b[39m \u001b[43m\u001b[49m\u001b[38;5;28;43;01mfor\u001b[39;49;00m\u001b[43m \u001b[49m\u001b[43mimgs\u001b[49m\u001b[43m,\u001b[49m\u001b[43m \u001b[49m\u001b[43mtext_in\u001b[49m\u001b[43m,\u001b[49m\u001b[43m \u001b[49m\u001b[43mtarget_y\u001b[49m\u001b[43m,\u001b[49m\u001b[43m \u001b[49m\u001b[43mlengths\u001b[49m\u001b[43m \u001b[49m\u001b[38;5;129;43;01min\u001b[39;49;00m\u001b[43m \u001b[49m\u001b[43mpbar\u001b[49m\u001b[43m:\u001b[49m\n\u001b[32m    525\u001b[39m \u001b[43m    \u001b[49m\u001b[43mimgs\u001b[49m\u001b[43m \u001b[49m\u001b[43m=\u001b[49m\u001b[43m \u001b[49m\u001b[43mimgs\u001b[49m\u001b[43m.\u001b[49m\u001b[43mto\u001b[49m\u001b[43m(\u001b[49m\u001b[43mdevice\u001b[49m\u001b[43m)\u001b[49m\n\u001b[32m    526\u001b[39m \u001b[43m    \u001b[49m\u001b[43mtext_in\u001b[49m\u001b[43m \u001b[49m\u001b[43m=\u001b[49m\u001b[43m \u001b[49m\u001b[43mtext_in\u001b[49m\u001b[43m.\u001b[49m\u001b[43mto\u001b[49m\u001b[43m(\u001b[49m\u001b[43mdevice\u001b[49m\u001b[43m)\u001b[49m\n",
            "\u001b[36mFile \u001b[39m\u001b[32mc:\\Users\\USER\\manuscript-ocr\\env\\Lib\\site-packages\\tqdm\\std.py:1181\u001b[39m, in \u001b[36mtqdm.__iter__\u001b[39m\u001b[34m(self)\u001b[39m\n\u001b[32m   1178\u001b[39m time = \u001b[38;5;28mself\u001b[39m._time\n\u001b[32m   1180\u001b[39m \u001b[38;5;28;01mtry\u001b[39;00m:\n\u001b[32m-> \u001b[39m\u001b[32m1181\u001b[39m \u001b[43m    \u001b[49m\u001b[38;5;28;43;01mfor\u001b[39;49;00m\u001b[43m \u001b[49m\u001b[43mobj\u001b[49m\u001b[43m \u001b[49m\u001b[38;5;129;43;01min\u001b[39;49;00m\u001b[43m \u001b[49m\u001b[43miterable\u001b[49m\u001b[43m:\u001b[49m\n\u001b[32m   1182\u001b[39m \u001b[43m        \u001b[49m\u001b[38;5;28;43;01myield\u001b[39;49;00m\u001b[43m \u001b[49m\u001b[43mobj\u001b[49m\n\u001b[32m   1183\u001b[39m \u001b[43m        \u001b[49m\u001b[38;5;66;43;03m# Update and possibly print the progressbar.\u001b[39;49;00m\n\u001b[32m   1184\u001b[39m \u001b[43m        \u001b[49m\u001b[38;5;66;43;03m# Note: does not call self.update(1) for speed optimisation.\u001b[39;49;00m\n",
            "\u001b[36mFile \u001b[39m\u001b[32mc:\\Users\\USER\\manuscript-ocr\\env\\Lib\\site-packages\\torch\\utils\\data\\dataloader.py:733\u001b[39m, in \u001b[36m_BaseDataLoaderIter.__next__\u001b[39m\u001b[34m(self)\u001b[39m\n\u001b[32m    730\u001b[39m \u001b[38;5;28;01mif\u001b[39;00m \u001b[38;5;28mself\u001b[39m._sampler_iter \u001b[38;5;129;01mis\u001b[39;00m \u001b[38;5;28;01mNone\u001b[39;00m:\n\u001b[32m    731\u001b[39m     \u001b[38;5;66;03m# TODO(https://github.com/pytorch/pytorch/issues/76750)\u001b[39;00m\n\u001b[32m    732\u001b[39m     \u001b[38;5;28mself\u001b[39m._reset()  \u001b[38;5;66;03m# type: ignore[call-arg]\u001b[39;00m\n\u001b[32m--> \u001b[39m\u001b[32m733\u001b[39m data = \u001b[38;5;28;43mself\u001b[39;49m\u001b[43m.\u001b[49m\u001b[43m_next_data\u001b[49m\u001b[43m(\u001b[49m\u001b[43m)\u001b[49m\n\u001b[32m    734\u001b[39m \u001b[38;5;28mself\u001b[39m._num_yielded += \u001b[32m1\u001b[39m\n\u001b[32m    735\u001b[39m \u001b[38;5;28;01mif\u001b[39;00m (\n\u001b[32m    736\u001b[39m     \u001b[38;5;28mself\u001b[39m._dataset_kind == _DatasetKind.Iterable\n\u001b[32m    737\u001b[39m     \u001b[38;5;129;01mand\u001b[39;00m \u001b[38;5;28mself\u001b[39m._IterableDataset_len_called \u001b[38;5;129;01mis\u001b[39;00m \u001b[38;5;129;01mnot\u001b[39;00m \u001b[38;5;28;01mNone\u001b[39;00m\n\u001b[32m    738\u001b[39m     \u001b[38;5;129;01mand\u001b[39;00m \u001b[38;5;28mself\u001b[39m._num_yielded > \u001b[38;5;28mself\u001b[39m._IterableDataset_len_called\n\u001b[32m    739\u001b[39m ):\n",
            "\u001b[36mFile \u001b[39m\u001b[32mc:\\Users\\USER\\manuscript-ocr\\env\\Lib\\site-packages\\torch\\utils\\data\\dataloader.py:789\u001b[39m, in \u001b[36m_SingleProcessDataLoaderIter._next_data\u001b[39m\u001b[34m(self)\u001b[39m\n\u001b[32m    787\u001b[39m \u001b[38;5;28;01mdef\u001b[39;00m\u001b[38;5;250m \u001b[39m\u001b[34m_next_data\u001b[39m(\u001b[38;5;28mself\u001b[39m):\n\u001b[32m    788\u001b[39m     index = \u001b[38;5;28mself\u001b[39m._next_index()  \u001b[38;5;66;03m# may raise StopIteration\u001b[39;00m\n\u001b[32m--> \u001b[39m\u001b[32m789\u001b[39m     data = \u001b[38;5;28;43mself\u001b[39;49m\u001b[43m.\u001b[49m\u001b[43m_dataset_fetcher\u001b[49m\u001b[43m.\u001b[49m\u001b[43mfetch\u001b[49m\u001b[43m(\u001b[49m\u001b[43mindex\u001b[49m\u001b[43m)\u001b[49m  \u001b[38;5;66;03m# may raise StopIteration\u001b[39;00m\n\u001b[32m    790\u001b[39m     \u001b[38;5;28;01mif\u001b[39;00m \u001b[38;5;28mself\u001b[39m._pin_memory:\n\u001b[32m    791\u001b[39m         data = _utils.pin_memory.pin_memory(data, \u001b[38;5;28mself\u001b[39m._pin_memory_device)\n",
            "\u001b[36mFile \u001b[39m\u001b[32mc:\\Users\\USER\\manuscript-ocr\\env\\Lib\\site-packages\\torch\\utils\\data\\_utils\\fetch.py:55\u001b[39m, in \u001b[36m_MapDatasetFetcher.fetch\u001b[39m\u001b[34m(self, possibly_batched_index)\u001b[39m\n\u001b[32m     53\u001b[39m \u001b[38;5;28;01melse\u001b[39;00m:\n\u001b[32m     54\u001b[39m     data = \u001b[38;5;28mself\u001b[39m.dataset[possibly_batched_index]\n\u001b[32m---> \u001b[39m\u001b[32m55\u001b[39m \u001b[38;5;28;01mreturn\u001b[39;00m \u001b[38;5;28;43mself\u001b[39;49m\u001b[43m.\u001b[49m\u001b[43mcollate_fn\u001b[49m\u001b[43m(\u001b[49m\u001b[43mdata\u001b[49m\u001b[43m)\u001b[49m\n",
            "\u001b[36mFile \u001b[39m\u001b[32mc:\\Users\\USER\\manuscript-ocr\\src\\manuscript\\recognizers\\trba\\data\\dataset.py:151\u001b[39m, in \u001b[36mOCRDatasetAttn.make_collate_attn.<locals>.collate\u001b[39m\u001b[34m(batch)\u001b[39m\n\u001b[32m    149\u001b[39m \u001b[38;5;28;01mdef\u001b[39;00m\u001b[38;5;250m \u001b[39m\u001b[34mcollate\u001b[39m(batch):\n\u001b[32m    150\u001b[39m     imgs, labels_text = \u001b[38;5;28mzip\u001b[39m(*batch)\n\u001b[32m--> \u001b[39m\u001b[32m151\u001b[39m     imgs = \u001b[43mtorch\u001b[49m\u001b[43m.\u001b[49m\u001b[43mstack\u001b[49m\u001b[43m(\u001b[49m\u001b[43mimgs\u001b[49m\u001b[43m)\u001b[49m\n\u001b[32m    152\u001b[39m     text_in, target_y, lengths = pack_attention_targets(\n\u001b[32m    153\u001b[39m         labels_text, stoi=stoi, max_len=max_len, drop_blank=drop_blank\n\u001b[32m    154\u001b[39m     )\n\u001b[32m    155\u001b[39m     \u001b[38;5;28;01mreturn\u001b[39;00m imgs, text_in, target_y, lengths\n",
            "\u001b[31mKeyboardInterrupt\u001b[39m: "
          ]
        }
      ],
      "source": [
        "from manuscript.recognizers import TRBAInfer\n",
        "\n",
        "\n",
        "train_summary = TRBAInfer.train(\n",
        "    train_csvs=[r\"C:\\shared\\orig_cyrillic\\train.tsv\"],\n",
        "    train_roots=[r\"C:\\shared\\orig_cyrillic\\train\"],\n",
        "    val_csvs=[r\"C:\\shared\\orig_cyrillic\\test.tsv\"],\n",
        "    val_roots=[r\"C:\\shared\\orig_cyrillic\\test\"],\n",
        "    exp_dir=\"experiments/trba_exp1\",\n",
        "    max_len=40,\n",
        "    hidden_size=256,\n",
        "    batch_size=64,\n",
        "    epochs=50,\n",
        "    lr=1e-3,\n",
        "    device=\"cuda\",  # or \"cpu\"\n",
        "    dual_validate=True,\n",
        "    resume_path=r'C:\\Users\\USER\\manuscript-ocr\\src\\experiments\\trba_exp1',\n",
        "    freeze_cnn=\"partial\",\n",
        "    freeze_enc_rnn=\"none\",\n",
        "    freeze_attention=\"partial\",\n",
        ")\n",
        "\n",
        "print(train_summary)\n"
      ]
    }
  ],
  "metadata": {
    "accelerator": "GPU",
    "colab": {
      "gpuType": "T4",
      "provenance": []
    },
    "kernelspec": {
      "display_name": "env",
      "language": "python",
      "name": "python3"
    },
    "language_info": {
      "codemirror_mode": {
        "name": "ipython",
        "version": 3
      },
      "file_extension": ".py",
      "mimetype": "text/x-python",
      "name": "python",
      "nbconvert_exporter": "python",
      "pygments_lexer": "ipython3",
      "version": "3.11.8"
    },
    "widgets": {
      "application/vnd.jupyter.widget-state+json": {
        "08536258283e4d0686a28b65599b21b0": {
          "model_module": "@jupyter-widgets/controls",
          "model_module_version": "1.5.0",
          "model_name": "FloatProgressModel",
          "state": {
            "_dom_classes": [],
            "_model_module": "@jupyter-widgets/controls",
            "_model_module_version": "1.5.0",
            "_model_name": "FloatProgressModel",
            "_view_count": null,
            "_view_module": "@jupyter-widgets/controls",
            "_view_module_version": "1.5.0",
            "_view_name": "ProgressView",
            "bar_style": "success",
            "description": "",
            "description_tooltip": null,
            "layout": "IPY_MODEL_1d156619f05d44eda68a2591cc48fc1a",
            "max": 383,
            "min": 0,
            "orientation": "horizontal",
            "style": "IPY_MODEL_12479d4b931c40bca2dfd9b2033073a4",
            "value": 383
          }
        },
        "0c01b57d0b4b45f482c4b2af338b3f0b": {
          "model_module": "@jupyter-widgets/base",
          "model_module_version": "1.2.0",
          "model_name": "LayoutModel",
          "state": {
            "_model_module": "@jupyter-widgets/base",
            "_model_module_version": "1.2.0",
            "_model_name": "LayoutModel",
            "_view_count": null,
            "_view_module": "@jupyter-widgets/base",
            "_view_module_version": "1.2.0",
            "_view_name": "LayoutView",
            "align_content": null,
            "align_items": null,
            "align_self": null,
            "border": null,
            "bottom": null,
            "display": null,
            "flex": null,
            "flex_flow": null,
            "grid_area": null,
            "grid_auto_columns": null,
            "grid_auto_flow": null,
            "grid_auto_rows": null,
            "grid_column": null,
            "grid_gap": null,
            "grid_row": null,
            "grid_template_areas": null,
            "grid_template_columns": null,
            "grid_template_rows": null,
            "height": null,
            "justify_content": null,
            "justify_items": null,
            "left": null,
            "margin": null,
            "max_height": null,
            "max_width": null,
            "min_height": null,
            "min_width": null,
            "object_fit": null,
            "object_position": null,
            "order": null,
            "overflow": null,
            "overflow_x": null,
            "overflow_y": null,
            "padding": null,
            "right": null,
            "top": null,
            "visibility": null,
            "width": null
          }
        },
        "12479d4b931c40bca2dfd9b2033073a4": {
          "model_module": "@jupyter-widgets/controls",
          "model_module_version": "1.5.0",
          "model_name": "ProgressStyleModel",
          "state": {
            "_model_module": "@jupyter-widgets/controls",
            "_model_module_version": "1.5.0",
            "_model_name": "ProgressStyleModel",
            "_view_count": null,
            "_view_module": "@jupyter-widgets/base",
            "_view_module_version": "1.2.0",
            "_view_name": "StyleView",
            "bar_color": null,
            "description_width": ""
          }
        },
        "1d156619f05d44eda68a2591cc48fc1a": {
          "model_module": "@jupyter-widgets/base",
          "model_module_version": "1.2.0",
          "model_name": "LayoutModel",
          "state": {
            "_model_module": "@jupyter-widgets/base",
            "_model_module_version": "1.2.0",
            "_model_name": "LayoutModel",
            "_view_count": null,
            "_view_module": "@jupyter-widgets/base",
            "_view_module_version": "1.2.0",
            "_view_name": "LayoutView",
            "align_content": null,
            "align_items": null,
            "align_self": null,
            "border": null,
            "bottom": null,
            "display": null,
            "flex": null,
            "flex_flow": null,
            "grid_area": null,
            "grid_auto_columns": null,
            "grid_auto_flow": null,
            "grid_auto_rows": null,
            "grid_column": null,
            "grid_gap": null,
            "grid_row": null,
            "grid_template_areas": null,
            "grid_template_columns": null,
            "grid_template_rows": null,
            "height": null,
            "justify_content": null,
            "justify_items": null,
            "left": null,
            "margin": null,
            "max_height": null,
            "max_width": null,
            "min_height": null,
            "min_width": null,
            "object_fit": null,
            "object_position": null,
            "order": null,
            "overflow": null,
            "overflow_x": null,
            "overflow_y": null,
            "padding": null,
            "right": null,
            "top": null,
            "visibility": null,
            "width": null
          }
        },
        "2181b058d54c44dc92db55d34893b248": {
          "model_module": "@jupyter-widgets/controls",
          "model_module_version": "1.5.0",
          "model_name": "DescriptionStyleModel",
          "state": {
            "_model_module": "@jupyter-widgets/controls",
            "_model_module_version": "1.5.0",
            "_model_name": "DescriptionStyleModel",
            "_view_count": null,
            "_view_module": "@jupyter-widgets/base",
            "_view_module_version": "1.2.0",
            "_view_name": "StyleView",
            "description_width": ""
          }
        },
        "57a8e5f2b99c425db6151351bd1573e2": {
          "model_module": "@jupyter-widgets/controls",
          "model_module_version": "1.5.0",
          "model_name": "HTMLModel",
          "state": {
            "_dom_classes": [],
            "_model_module": "@jupyter-widgets/controls",
            "_model_module_version": "1.5.0",
            "_model_name": "HTMLModel",
            "_view_count": null,
            "_view_module": "@jupyter-widgets/controls",
            "_view_module_version": "1.5.0",
            "_view_name": "HTMLView",
            "description": "",
            "description_tooltip": null,
            "layout": "IPY_MODEL_fc36ca76a96d427aa457a7c3aeff3c0e",
            "placeholder": "​",
            "style": "IPY_MODEL_e041a221954541bbb65b99109810e1f5",
            "value": " 383/383 [03:44&lt;00:00,  3.15it/s]"
          }
        },
        "ca5f831c6cdd4831a9cf7f8bb90b4083": {
          "model_module": "@jupyter-widgets/controls",
          "model_module_version": "1.5.0",
          "model_name": "HTMLModel",
          "state": {
            "_dom_classes": [],
            "_model_module": "@jupyter-widgets/controls",
            "_model_module_version": "1.5.0",
            "_model_name": "HTMLModel",
            "_view_count": null,
            "_view_module": "@jupyter-widgets/controls",
            "_view_module_version": "1.5.0",
            "_view_name": "HTMLView",
            "description": "",
            "description_tooltip": null,
            "layout": "IPY_MODEL_db796066b2dc47fe8ebaf0a6d9c85e6e",
            "placeholder": "​",
            "style": "IPY_MODEL_2181b058d54c44dc92db55d34893b248",
            "value": "Train 1: 100%"
          }
        },
        "db796066b2dc47fe8ebaf0a6d9c85e6e": {
          "model_module": "@jupyter-widgets/base",
          "model_module_version": "1.2.0",
          "model_name": "LayoutModel",
          "state": {
            "_model_module": "@jupyter-widgets/base",
            "_model_module_version": "1.2.0",
            "_model_name": "LayoutModel",
            "_view_count": null,
            "_view_module": "@jupyter-widgets/base",
            "_view_module_version": "1.2.0",
            "_view_name": "LayoutView",
            "align_content": null,
            "align_items": null,
            "align_self": null,
            "border": null,
            "bottom": null,
            "display": null,
            "flex": null,
            "flex_flow": null,
            "grid_area": null,
            "grid_auto_columns": null,
            "grid_auto_flow": null,
            "grid_auto_rows": null,
            "grid_column": null,
            "grid_gap": null,
            "grid_row": null,
            "grid_template_areas": null,
            "grid_template_columns": null,
            "grid_template_rows": null,
            "height": null,
            "justify_content": null,
            "justify_items": null,
            "left": null,
            "margin": null,
            "max_height": null,
            "max_width": null,
            "min_height": null,
            "min_width": null,
            "object_fit": null,
            "object_position": null,
            "order": null,
            "overflow": null,
            "overflow_x": null,
            "overflow_y": null,
            "padding": null,
            "right": null,
            "top": null,
            "visibility": null,
            "width": null
          }
        },
        "e041a221954541bbb65b99109810e1f5": {
          "model_module": "@jupyter-widgets/controls",
          "model_module_version": "1.5.0",
          "model_name": "DescriptionStyleModel",
          "state": {
            "_model_module": "@jupyter-widgets/controls",
            "_model_module_version": "1.5.0",
            "_model_name": "DescriptionStyleModel",
            "_view_count": null,
            "_view_module": "@jupyter-widgets/base",
            "_view_module_version": "1.2.0",
            "_view_name": "StyleView",
            "description_width": ""
          }
        },
        "e16b54ce0ba740d28d2a5b3528e26f2e": {
          "model_module": "@jupyter-widgets/controls",
          "model_module_version": "1.5.0",
          "model_name": "HBoxModel",
          "state": {
            "_dom_classes": [],
            "_model_module": "@jupyter-widgets/controls",
            "_model_module_version": "1.5.0",
            "_model_name": "HBoxModel",
            "_view_count": null,
            "_view_module": "@jupyter-widgets/controls",
            "_view_module_version": "1.5.0",
            "_view_name": "HBoxView",
            "box_style": "",
            "children": [
              "IPY_MODEL_ca5f831c6cdd4831a9cf7f8bb90b4083",
              "IPY_MODEL_08536258283e4d0686a28b65599b21b0",
              "IPY_MODEL_57a8e5f2b99c425db6151351bd1573e2"
            ],
            "layout": "IPY_MODEL_0c01b57d0b4b45f482c4b2af338b3f0b"
          }
        },
        "fc36ca76a96d427aa457a7c3aeff3c0e": {
          "model_module": "@jupyter-widgets/base",
          "model_module_version": "1.2.0",
          "model_name": "LayoutModel",
          "state": {
            "_model_module": "@jupyter-widgets/base",
            "_model_module_version": "1.2.0",
            "_model_name": "LayoutModel",
            "_view_count": null,
            "_view_module": "@jupyter-widgets/base",
            "_view_module_version": "1.2.0",
            "_view_name": "LayoutView",
            "align_content": null,
            "align_items": null,
            "align_self": null,
            "border": null,
            "bottom": null,
            "display": null,
            "flex": null,
            "flex_flow": null,
            "grid_area": null,
            "grid_auto_columns": null,
            "grid_auto_flow": null,
            "grid_auto_rows": null,
            "grid_column": null,
            "grid_gap": null,
            "grid_row": null,
            "grid_template_areas": null,
            "grid_template_columns": null,
            "grid_template_rows": null,
            "height": null,
            "justify_content": null,
            "justify_items": null,
            "left": null,
            "margin": null,
            "max_height": null,
            "max_width": null,
            "min_height": null,
            "min_width": null,
            "object_fit": null,
            "object_position": null,
            "order": null,
            "overflow": null,
            "overflow_x": null,
            "overflow_y": null,
            "padding": null,
            "right": null,
            "top": null,
            "visibility": null,
            "width": null
          }
        }
      }
    }
  },
  "nbformat": 4,
  "nbformat_minor": 0
}
