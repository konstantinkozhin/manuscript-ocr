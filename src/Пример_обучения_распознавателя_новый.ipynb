{
  "cells": [
    {
      "cell_type": "code",
      "execution_count": null,
      "metadata": {},
      "outputs": [
        {
          "name": "stderr",
          "output_type": "stream",
          "text": [
            "[2025-10-29 16:54:10] Start training\n",
            "[2025-10-29 16:54:10] Experiment dir: experiments/trba_exp1\n",
            "[2025-10-29 16:54:10] Seed: 42\n",
            "[2025-10-29 16:54:10] Saved config to exp_dir/config.json\n",
            "[2025-10-29 16:54:10] Device: cuda\n",
            "[2025-10-29 16:54:10] Charset loaded: 194 tokens\n",
            "[2025-10-29 16:54:10] Using default pretrained weights: trba_exp_1_64.pth (GitHub release)\n",
            "[2025-10-29 16:54:10] Default pretrain config: https://github.com/konstantinkozhin/manuscript-ocr/releases/download/v0.1.0/trba_exp_1_64.json\n",
            "[2025-10-29 16:54:10] Pretrain load summary: loaded=220/220 keys; missing=0; shape_mismatch=0\n",
            "[2025-10-29 16:54:10] Freeze policy applied: cnn: FULL (all layers frozen)\n",
            "[2025-10-29 16:54:10] Freeze policy applied: enc_rnn: NONE (no freezing)\n",
            "[2025-10-29 16:54:10] Freeze policy applied: attention: PARTIAL (unfrozen generator, frozen attention_cell)\n",
            "[2025-10-29 16:54:10] Parameters: trainable=2,942,146 | frozen=43,316,288 | total=46,258,434\n",
            "                                                                            \r"
          ]
        },
        {
          "name": "stdout",
          "output_type": "stream",
          "text": [
            "[OCRDatasetAttn] C:\\Users\\USER\\Desktop\\archive_25_09\\dataset\\handwritten\\train\\labels.csv: пропущено 1 записей.\n",
            "  - charset: 1\n",
            "    примеры: [('images_group_26_3681_9484.png', 'СОДЕРЖАНIЕ\\nДѢЛЪ.', '\\n')]\n",
            "  Отсутствующие символы (TOP 30):\n",
            "    '\n",
            "' (U+000A, repr='\\n'): 1 раз(а)\n",
            "[OCRDatasetAttn] Lazy image validation is enabled; unreadable images will be skipped during the first access.\n"
          ]
        },
        {
          "name": "stderr",
          "output_type": "stream",
          "text": [
            "                                                                            \r"
          ]
        },
        {
          "name": "stdout",
          "output_type": "stream",
          "text": [
            "[OCRDatasetAttn] C:\\Users\\USER\\Desktop\\archive_25_09\\dataset\\handwritten\\val\\labels.csv: пропущено 9 записей.\n",
            "  - charset: 9\n",
            "    примеры: [('images_group_12_1353_5349.png', 'Їюля', 'Ї'), ('images_group_12_1353_5366.png', '29 Їюня', 'Ї'), ('images_group_12_1353_5369.png', 'Їюля.', 'Ї'), ('images_group_12_1354_5446.png', 'Їюня', 'Ї'), ('images_group_12_1354_5451.png', 'Їюля.', 'Ї'), ('images_group_12_1354_5465.png', '8 Їюня.', 'Ї'), ('images_group_12_1392_11899.png', 'Їюля', 'Ї'), ('images_group_12_1392_11944.png', '17 Їюля', 'Ї')]\n",
            "  Отсутствующие символы (TOP 30):\n",
            "    'Ї' (U+0407, repr='Ї'): 9 раз(а)\n",
            "[OCRDatasetAttn] Lazy image validation is enabled; unreadable images will be skipped during the first access.\n"
          ]
        },
        {
          "name": "stderr",
          "output_type": "stream",
          "text": [
            "                                                                              \r"
          ]
        },
        {
          "name": "stdout",
          "output_type": "stream",
          "text": [
            "[OCRDatasetAttn] C:\\Users\\USER\\Desktop\\archive_25_09\\dataset\\printed\\train\\labels.csv: пропущено 19 записей.\n",
            "  - charset: 19\n",
            "    примеры: [('images_group_12_1327_940.png', 'Їовъ', 'Ї'), ('images_group_12_1335_2369.png', 'Їюня', 'Ї'), ('images_group_12_1335_2398.png', 'Їюня по', 'Ї'), ('images_group_12_1335_2400.png', 'Їюля', 'Ї'), ('images_group_12_1335_2424.png', 'Їюля,', 'Ї'), ('images_group_12_1355_5535.png', 'Їюня', 'Ї'), ('images_group_12_1355_5538.png', 'Їюля', 'Ї'), ('images_group_12_1355_5582.png', 'Їю', 'Ї')]\n",
            "  Отсутствующие символы (TOP 30):\n",
            "    'Ї' (U+0407, repr='Ї'): 19 раз(а)\n",
            "[OCRDatasetAttn] Lazy image validation is enabled; unreadable images will be skipped during the first access.\n"
          ]
        },
        {
          "name": "stderr",
          "output_type": "stream",
          "text": [
            "[2025-10-29 16:54:23] Validation strategy:                                 \n",
            "[2025-10-29 16:54:23]   Dataset 0: using separate validation set from C:\\Users\\USER\\Desktop\\archive_25_09\\dataset\\handwritten\\val\n",
            "[2025-10-29 16:54:23]   Dataset 1: using separate validation set from C:\\Users\\USER\\Desktop\\archive_25_09\\dataset\\printed\\val\n",
            "[2025-10-29 16:54:23] Datasets: train=220158 samples across 2 set(s); val=38138 samples across 2 set(s)\n",
            "[2025-10-29 16:54:23] Loaders: train_batches/epoch=430; val_batches=76; batch_size=512\n"
          ]
        },
        {
          "name": "stdout",
          "output_type": "stream",
          "text": [
            "[OCRDatasetAttn] Lazy image validation is enabled; unreadable images will be skipped during the first access.\n",
            "Datasets: train=220158 samples across 2 set(s); val=38138 samples across 2 set(s)\n",
            "Loaders: train_batches/epoch=430; val_batches=76; batch_size=512\n"
          ]
        },
        {
          "name": "stderr",
          "output_type": "stream",
          "text": [
            "Train 1/1000:  43%|████▎     | 185/430 [03:28<07:39,  1.88s/it, loss=1.4812, lr=1.00e-07]"
          ]
        }
      ],
      "source": [
        "from manuscript.recognizers import TRBA\n",
        "\n",
        "if __name__ == \"__main__\":\n",
        "    train_summary = TRBA.train(\n",
        "        train_csvs= [\n",
        "            \"C:\\\\Users\\\\USER\\\\Desktop\\\\archive_25_09\\\\dataset\\\\handwritten\\\\train\\\\labels.csv\",\n",
        "            \"C:\\\\Users\\\\USER\\\\Desktop\\\\archive_25_09\\\\dataset\\\\printed\\\\train\\\\labels.csv\"\n",
        "        ],\n",
        "        train_roots= [\n",
        "            \"C:\\\\Users\\\\USER\\\\Desktop\\\\archive_25_09\\\\dataset\\\\handwritten\\\\train\",\n",
        "            \"C:\\\\Users\\\\USER\\\\Desktop\\\\archive_25_09\\\\dataset\\\\printed\\\\train\"\n",
        "        ],\n",
        "        val_csvs= [\n",
        "            \"C:\\\\Users\\\\USER\\\\Desktop\\\\archive_25_09\\\\dataset\\\\handwritten\\\\val\\\\labels.csv\",\n",
        "            \"C:\\\\Users\\\\USER\\\\Desktop\\\\archive_25_09\\\\dataset\\\\printed\\\\val\\\\labels.csv\"\n",
        "        ],\n",
        "        val_roots= [\n",
        "            \"C:\\\\Users\\\\USER\\\\Desktop\\\\archive_25_09\\\\dataset\\\\handwritten\\\\val\",\n",
        "            \"C:\\\\Users\\\\USER\\\\Desktop\\\\archive_25_09\\\\dataset\\\\printed\\\\val\"\n",
        "        ],\n",
        "        exp_dir=\"experiments/trba_exp1\",\n",
        "        max_len=40,\n",
        "        hidden_size=256,\n",
        "        batch_size=512,\n",
        "        epochs=1000,\n",
        "        lr=1e-7,\n",
        "        device=\"cuda\",  # or \"cpu\"\n",
        "        dual_validate=True,\n",
        "        freeze_cnn=\"full\",\n",
        "        freeze_enc_rnn=\"none\",\n",
        "        freeze_attention=\"partial\",\n",
        "        pretrain_weights=\"default\",\n",
        "    )\n",
        "\n",
        "    print(train_summary)\n"
      ]
    }
  ],
  "metadata": {
    "accelerator": "GPU",
    "colab": {
      "gpuType": "T4",
      "provenance": []
    },
    "kernelspec": {
      "display_name": "env",
      "language": "python",
      "name": "python3"
    },
    "language_info": {
      "codemirror_mode": {
        "name": "ipython",
        "version": 3
      },
      "file_extension": ".py",
      "mimetype": "text/x-python",
      "name": "python",
      "nbconvert_exporter": "python",
      "pygments_lexer": "ipython3",
      "version": "3.11.0"
    },
    "widgets": {
      "application/vnd.jupyter.widget-state+json": {
        "08536258283e4d0686a28b65599b21b0": {
          "model_module": "@jupyter-widgets/controls",
          "model_module_version": "1.5.0",
          "model_name": "FloatProgressModel",
          "state": {
            "_dom_classes": [],
            "_model_module": "@jupyter-widgets/controls",
            "_model_module_version": "1.5.0",
            "_model_name": "FloatProgressModel",
            "_view_count": null,
            "_view_module": "@jupyter-widgets/controls",
            "_view_module_version": "1.5.0",
            "_view_name": "ProgressView",
            "bar_style": "success",
            "description": "",
            "description_tooltip": null,
            "layout": "IPY_MODEL_1d156619f05d44eda68a2591cc48fc1a",
            "max": 383,
            "min": 0,
            "orientation": "horizontal",
            "style": "IPY_MODEL_12479d4b931c40bca2dfd9b2033073a4",
            "value": 383
          }
        },
        "0c01b57d0b4b45f482c4b2af338b3f0b": {
          "model_module": "@jupyter-widgets/base",
          "model_module_version": "1.2.0",
          "model_name": "LayoutModel",
          "state": {
            "_model_module": "@jupyter-widgets/base",
            "_model_module_version": "1.2.0",
            "_model_name": "LayoutModel",
            "_view_count": null,
            "_view_module": "@jupyter-widgets/base",
            "_view_module_version": "1.2.0",
            "_view_name": "LayoutView",
            "align_content": null,
            "align_items": null,
            "align_self": null,
            "border": null,
            "bottom": null,
            "display": null,
            "flex": null,
            "flex_flow": null,
            "grid_area": null,
            "grid_auto_columns": null,
            "grid_auto_flow": null,
            "grid_auto_rows": null,
            "grid_column": null,
            "grid_gap": null,
            "grid_row": null,
            "grid_template_areas": null,
            "grid_template_columns": null,
            "grid_template_rows": null,
            "height": null,
            "justify_content": null,
            "justify_items": null,
            "left": null,
            "margin": null,
            "max_height": null,
            "max_width": null,
            "min_height": null,
            "min_width": null,
            "object_fit": null,
            "object_position": null,
            "order": null,
            "overflow": null,
            "overflow_x": null,
            "overflow_y": null,
            "padding": null,
            "right": null,
            "top": null,
            "visibility": null,
            "width": null
          }
        },
        "12479d4b931c40bca2dfd9b2033073a4": {
          "model_module": "@jupyter-widgets/controls",
          "model_module_version": "1.5.0",
          "model_name": "ProgressStyleModel",
          "state": {
            "_model_module": "@jupyter-widgets/controls",
            "_model_module_version": "1.5.0",
            "_model_name": "ProgressStyleModel",
            "_view_count": null,
            "_view_module": "@jupyter-widgets/base",
            "_view_module_version": "1.2.0",
            "_view_name": "StyleView",
            "bar_color": null,
            "description_width": ""
          }
        },
        "1d156619f05d44eda68a2591cc48fc1a": {
          "model_module": "@jupyter-widgets/base",
          "model_module_version": "1.2.0",
          "model_name": "LayoutModel",
          "state": {
            "_model_module": "@jupyter-widgets/base",
            "_model_module_version": "1.2.0",
            "_model_name": "LayoutModel",
            "_view_count": null,
            "_view_module": "@jupyter-widgets/base",
            "_view_module_version": "1.2.0",
            "_view_name": "LayoutView",
            "align_content": null,
            "align_items": null,
            "align_self": null,
            "border": null,
            "bottom": null,
            "display": null,
            "flex": null,
            "flex_flow": null,
            "grid_area": null,
            "grid_auto_columns": null,
            "grid_auto_flow": null,
            "grid_auto_rows": null,
            "grid_column": null,
            "grid_gap": null,
            "grid_row": null,
            "grid_template_areas": null,
            "grid_template_columns": null,
            "grid_template_rows": null,
            "height": null,
            "justify_content": null,
            "justify_items": null,
            "left": null,
            "margin": null,
            "max_height": null,
            "max_width": null,
            "min_height": null,
            "min_width": null,
            "object_fit": null,
            "object_position": null,
            "order": null,
            "overflow": null,
            "overflow_x": null,
            "overflow_y": null,
            "padding": null,
            "right": null,
            "top": null,
            "visibility": null,
            "width": null
          }
        },
        "2181b058d54c44dc92db55d34893b248": {
          "model_module": "@jupyter-widgets/controls",
          "model_module_version": "1.5.0",
          "model_name": "DescriptionStyleModel",
          "state": {
            "_model_module": "@jupyter-widgets/controls",
            "_model_module_version": "1.5.0",
            "_model_name": "DescriptionStyleModel",
            "_view_count": null,
            "_view_module": "@jupyter-widgets/base",
            "_view_module_version": "1.2.0",
            "_view_name": "StyleView",
            "description_width": ""
          }
        },
        "57a8e5f2b99c425db6151351bd1573e2": {
          "model_module": "@jupyter-widgets/controls",
          "model_module_version": "1.5.0",
          "model_name": "HTMLModel",
          "state": {
            "_dom_classes": [],
            "_model_module": "@jupyter-widgets/controls",
            "_model_module_version": "1.5.0",
            "_model_name": "HTMLModel",
            "_view_count": null,
            "_view_module": "@jupyter-widgets/controls",
            "_view_module_version": "1.5.0",
            "_view_name": "HTMLView",
            "description": "",
            "description_tooltip": null,
            "layout": "IPY_MODEL_fc36ca76a96d427aa457a7c3aeff3c0e",
            "placeholder": "​",
            "style": "IPY_MODEL_e041a221954541bbb65b99109810e1f5",
            "value": " 383/383 [03:44&lt;00:00,  3.15it/s]"
          }
        },
        "ca5f831c6cdd4831a9cf7f8bb90b4083": {
          "model_module": "@jupyter-widgets/controls",
          "model_module_version": "1.5.0",
          "model_name": "HTMLModel",
          "state": {
            "_dom_classes": [],
            "_model_module": "@jupyter-widgets/controls",
            "_model_module_version": "1.5.0",
            "_model_name": "HTMLModel",
            "_view_count": null,
            "_view_module": "@jupyter-widgets/controls",
            "_view_module_version": "1.5.0",
            "_view_name": "HTMLView",
            "description": "",
            "description_tooltip": null,
            "layout": "IPY_MODEL_db796066b2dc47fe8ebaf0a6d9c85e6e",
            "placeholder": "​",
            "style": "IPY_MODEL_2181b058d54c44dc92db55d34893b248",
            "value": "Train 1: 100%"
          }
        },
        "db796066b2dc47fe8ebaf0a6d9c85e6e": {
          "model_module": "@jupyter-widgets/base",
          "model_module_version": "1.2.0",
          "model_name": "LayoutModel",
          "state": {
            "_model_module": "@jupyter-widgets/base",
            "_model_module_version": "1.2.0",
            "_model_name": "LayoutModel",
            "_view_count": null,
            "_view_module": "@jupyter-widgets/base",
            "_view_module_version": "1.2.0",
            "_view_name": "LayoutView",
            "align_content": null,
            "align_items": null,
            "align_self": null,
            "border": null,
            "bottom": null,
            "display": null,
            "flex": null,
            "flex_flow": null,
            "grid_area": null,
            "grid_auto_columns": null,
            "grid_auto_flow": null,
            "grid_auto_rows": null,
            "grid_column": null,
            "grid_gap": null,
            "grid_row": null,
            "grid_template_areas": null,
            "grid_template_columns": null,
            "grid_template_rows": null,
            "height": null,
            "justify_content": null,
            "justify_items": null,
            "left": null,
            "margin": null,
            "max_height": null,
            "max_width": null,
            "min_height": null,
            "min_width": null,
            "object_fit": null,
            "object_position": null,
            "order": null,
            "overflow": null,
            "overflow_x": null,
            "overflow_y": null,
            "padding": null,
            "right": null,
            "top": null,
            "visibility": null,
            "width": null
          }
        },
        "e041a221954541bbb65b99109810e1f5": {
          "model_module": "@jupyter-widgets/controls",
          "model_module_version": "1.5.0",
          "model_name": "DescriptionStyleModel",
          "state": {
            "_model_module": "@jupyter-widgets/controls",
            "_model_module_version": "1.5.0",
            "_model_name": "DescriptionStyleModel",
            "_view_count": null,
            "_view_module": "@jupyter-widgets/base",
            "_view_module_version": "1.2.0",
            "_view_name": "StyleView",
            "description_width": ""
          }
        },
        "e16b54ce0ba740d28d2a5b3528e26f2e": {
          "model_module": "@jupyter-widgets/controls",
          "model_module_version": "1.5.0",
          "model_name": "HBoxModel",
          "state": {
            "_dom_classes": [],
            "_model_module": "@jupyter-widgets/controls",
            "_model_module_version": "1.5.0",
            "_model_name": "HBoxModel",
            "_view_count": null,
            "_view_module": "@jupyter-widgets/controls",
            "_view_module_version": "1.5.0",
            "_view_name": "HBoxView",
            "box_style": "",
            "children": [
              "IPY_MODEL_ca5f831c6cdd4831a9cf7f8bb90b4083",
              "IPY_MODEL_08536258283e4d0686a28b65599b21b0",
              "IPY_MODEL_57a8e5f2b99c425db6151351bd1573e2"
            ],
            "layout": "IPY_MODEL_0c01b57d0b4b45f482c4b2af338b3f0b"
          }
        },
        "fc36ca76a96d427aa457a7c3aeff3c0e": {
          "model_module": "@jupyter-widgets/base",
          "model_module_version": "1.2.0",
          "model_name": "LayoutModel",
          "state": {
            "_model_module": "@jupyter-widgets/base",
            "_model_module_version": "1.2.0",
            "_model_name": "LayoutModel",
            "_view_count": null,
            "_view_module": "@jupyter-widgets/base",
            "_view_module_version": "1.2.0",
            "_view_name": "LayoutView",
            "align_content": null,
            "align_items": null,
            "align_self": null,
            "border": null,
            "bottom": null,
            "display": null,
            "flex": null,
            "flex_flow": null,
            "grid_area": null,
            "grid_auto_columns": null,
            "grid_auto_flow": null,
            "grid_auto_rows": null,
            "grid_column": null,
            "grid_gap": null,
            "grid_row": null,
            "grid_template_areas": null,
            "grid_template_columns": null,
            "grid_template_rows": null,
            "height": null,
            "justify_content": null,
            "justify_items": null,
            "left": null,
            "margin": null,
            "max_height": null,
            "max_width": null,
            "min_height": null,
            "min_width": null,
            "object_fit": null,
            "object_position": null,
            "order": null,
            "overflow": null,
            "overflow_x": null,
            "overflow_y": null,
            "padding": null,
            "right": null,
            "top": null,
            "visibility": null,
            "width": null
          }
        }
      }
    }
  },
  "nbformat": 4,
  "nbformat_minor": 0
}
